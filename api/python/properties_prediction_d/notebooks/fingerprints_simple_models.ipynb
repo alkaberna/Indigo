{
 "cells": [
  {
   "cell_type": "code",
   "execution_count": 1,
   "metadata": {},
   "outputs": [],
   "source": [
    "import pandas as pd\n",
    "from sklearn.model_selection import train_test_split\n",
    "from sklearn.ensemble import RandomForestRegressor, GradientBoostingRegressor\n",
    "from indigo import *\n",
    "import numpy as np\n",
    "from sklearn.metrics import r2_score\n",
    "\n"
   ]
  },
  {
   "cell_type": "code",
   "execution_count": 9,
   "metadata": {},
   "outputs": [
    {
     "data": {
      "text/plain": [
       "(1731, 327)"
      ]
     },
     "execution_count": 9,
     "metadata": {},
     "output_type": "execute_result"
    }
   ],
   "source": [
    "indigo = Indigo()\n",
    "indigo.setOption(\"ignore-stereochemistry-errors\", True)\n",
    "indigo.setOption(\"ignore-bad-valence\", True)\n",
    "df = pd.read_csv(\"Adrenergic_dataset.csv\")\n",
    "df.shape"
   ]
  },
  {
   "cell_type": "code",
   "execution_count": 3,
   "metadata": {},
   "outputs": [
    {
     "data": {
      "text/html": [
       "<div>\n",
       "<style scoped>\n",
       "    .dataframe tbody tr th:only-of-type {\n",
       "        vertical-align: middle;\n",
       "    }\n",
       "\n",
       "    .dataframe tbody tr th {\n",
       "        vertical-align: top;\n",
       "    }\n",
       "\n",
       "    .dataframe thead th {\n",
       "        text-align: right;\n",
       "    }\n",
       "</style>\n",
       "<table border=\"1\" class=\"dataframe\">\n",
       "  <thead>\n",
       "    <tr style=\"text-align: right;\">\n",
       "      <th></th>\n",
       "      <th>Structure</th>\n",
       "      <th>ID</th>\n",
       "      <th>logP</th>\n",
       "      <th>Vx</th>\n",
       "      <th>MW</th>\n",
       "      <th>NegativeCharge</th>\n",
       "      <th>PositiveCharge</th>\n",
       "      <th>Flex</th>\n",
       "      <th>AromaticRings</th>\n",
       "      <th>OverallCharge</th>\n",
       "      <th>...</th>\n",
       "      <th>q485</th>\n",
       "      <th>frg-8</th>\n",
       "      <th>frg-26</th>\n",
       "      <th>frg-54</th>\n",
       "      <th>Nn</th>\n",
       "      <th>AdrA1A_PCHEMBL_VALUE</th>\n",
       "      <th>AdrA1B_PCHEMBL_VALUE</th>\n",
       "      <th>AdrA1D_PCHEMBL_VALUE</th>\n",
       "      <th>AdrA2A_PCHEMBL_VALUE</th>\n",
       "      <th>AdrA2C_PCHEMBL_VALUE</th>\n",
       "    </tr>\n",
       "  </thead>\n",
       "  <tbody>\n",
       "    <tr>\n",
       "      <th>0</th>\n",
       "      <td>CC\\C(=C(\\CC)/c1ccc(O)cc1)\\c2ccc(O)cc2</td>\n",
       "      <td>CHEMBL411</td>\n",
       "      <td>4.871</td>\n",
       "      <td>224.4</td>\n",
       "      <td>268.4</td>\n",
       "      <td>0</td>\n",
       "      <td>0</td>\n",
       "      <td>0.1905</td>\n",
       "      <td>2</td>\n",
       "      <td>0</td>\n",
       "      <td>...</td>\n",
       "      <td>4</td>\n",
       "      <td>2</td>\n",
       "      <td>0</td>\n",
       "      <td>0</td>\n",
       "      <td>0</td>\n",
       "      <td>NaN</td>\n",
       "      <td>NaN</td>\n",
       "      <td>NaN</td>\n",
       "      <td>NaN</td>\n",
       "      <td>5.66</td>\n",
       "    </tr>\n",
       "    <tr>\n",
       "      <th>1</th>\n",
       "      <td>CSc1ccc2Sc3ccccc3N(CCC4CCCCN4C)c2c1</td>\n",
       "      <td>CHEMBL479</td>\n",
       "      <td>5.900</td>\n",
       "      <td>290.2</td>\n",
       "      <td>370.6</td>\n",
       "      <td>0</td>\n",
       "      <td>2</td>\n",
       "      <td>0.1429</td>\n",
       "      <td>2</td>\n",
       "      <td>2</td>\n",
       "      <td>...</td>\n",
       "      <td>18</td>\n",
       "      <td>0</td>\n",
       "      <td>0</td>\n",
       "      <td>0</td>\n",
       "      <td>2</td>\n",
       "      <td>NaN</td>\n",
       "      <td>NaN</td>\n",
       "      <td>NaN</td>\n",
       "      <td>NaN</td>\n",
       "      <td>7.60</td>\n",
       "    </tr>\n",
       "    <tr>\n",
       "      <th>2</th>\n",
       "      <td>COc1cccc(CCN2C3C4C5CC6C7C5C3C7C2(O)C46)c1</td>\n",
       "      <td>CHEMBL2205811</td>\n",
       "      <td>3.040</td>\n",
       "      <td>225.5</td>\n",
       "      <td>309.4</td>\n",
       "      <td>0</td>\n",
       "      <td>1</td>\n",
       "      <td>0.1379</td>\n",
       "      <td>1</td>\n",
       "      <td>1</td>\n",
       "      <td>...</td>\n",
       "      <td>4</td>\n",
       "      <td>0</td>\n",
       "      <td>0</td>\n",
       "      <td>0</td>\n",
       "      <td>1</td>\n",
       "      <td>NaN</td>\n",
       "      <td>NaN</td>\n",
       "      <td>NaN</td>\n",
       "      <td>NaN</td>\n",
       "      <td>6.25</td>\n",
       "    </tr>\n",
       "    <tr>\n",
       "      <th>3</th>\n",
       "      <td>COc1cc(CN[C@H]2C3C4CC5C6C4CC3C6C25)cc(OC)c1OC</td>\n",
       "      <td>CHEMBL2432051</td>\n",
       "      <td>3.380</td>\n",
       "      <td>256.3</td>\n",
       "      <td>341.4</td>\n",
       "      <td>0</td>\n",
       "      <td>1</td>\n",
       "      <td>0.2000</td>\n",
       "      <td>1</td>\n",
       "      <td>1</td>\n",
       "      <td>...</td>\n",
       "      <td>8</td>\n",
       "      <td>0</td>\n",
       "      <td>0</td>\n",
       "      <td>0</td>\n",
       "      <td>1</td>\n",
       "      <td>NaN</td>\n",
       "      <td>NaN</td>\n",
       "      <td>NaN</td>\n",
       "      <td>NaN</td>\n",
       "      <td>5.64</td>\n",
       "    </tr>\n",
       "    <tr>\n",
       "      <th>4</th>\n",
       "      <td>COc1cccc(CCN2C3C4C5CC6C7C5C3C7C2(O)C46)c1OC</td>\n",
       "      <td>CHEMBL2205813</td>\n",
       "      <td>2.899</td>\n",
       "      <td>245.4</td>\n",
       "      <td>339.4</td>\n",
       "      <td>0</td>\n",
       "      <td>1</td>\n",
       "      <td>0.1613</td>\n",
       "      <td>1</td>\n",
       "      <td>1</td>\n",
       "      <td>...</td>\n",
       "      <td>6</td>\n",
       "      <td>0</td>\n",
       "      <td>0</td>\n",
       "      <td>0</td>\n",
       "      <td>1</td>\n",
       "      <td>NaN</td>\n",
       "      <td>NaN</td>\n",
       "      <td>NaN</td>\n",
       "      <td>NaN</td>\n",
       "      <td>5.36</td>\n",
       "    </tr>\n",
       "  </tbody>\n",
       "</table>\n",
       "<p>5 rows × 327 columns</p>\n",
       "</div>"
      ],
      "text/plain": [
       "                                       Structure             ID   logP     Vx  \\\n",
       "0          CC\\C(=C(\\CC)/c1ccc(O)cc1)\\c2ccc(O)cc2      CHEMBL411  4.871  224.4   \n",
       "1            CSc1ccc2Sc3ccccc3N(CCC4CCCCN4C)c2c1      CHEMBL479  5.900  290.2   \n",
       "2      COc1cccc(CCN2C3C4C5CC6C7C5C3C7C2(O)C46)c1  CHEMBL2205811  3.040  225.5   \n",
       "3  COc1cc(CN[C@H]2C3C4CC5C6C4CC3C6C25)cc(OC)c1OC  CHEMBL2432051  3.380  256.3   \n",
       "4    COc1cccc(CCN2C3C4C5CC6C7C5C3C7C2(O)C46)c1OC  CHEMBL2205813  2.899  245.4   \n",
       "\n",
       "      MW  NegativeCharge  PositiveCharge    Flex  AromaticRings  \\\n",
       "0  268.4               0               0  0.1905              2   \n",
       "1  370.6               0               2  0.1429              2   \n",
       "2  309.4               0               1  0.1379              1   \n",
       "3  341.4               0               1  0.2000              1   \n",
       "4  339.4               0               1  0.1613              1   \n",
       "\n",
       "   OverallCharge  ...  q485  frg-8  frg-26  frg-54  Nn  AdrA1A_PCHEMBL_VALUE  \\\n",
       "0              0  ...     4      2       0       0   0                   NaN   \n",
       "1              2  ...    18      0       0       0   2                   NaN   \n",
       "2              1  ...     4      0       0       0   1                   NaN   \n",
       "3              1  ...     8      0       0       0   1                   NaN   \n",
       "4              1  ...     6      0       0       0   1                   NaN   \n",
       "\n",
       "   AdrA1B_PCHEMBL_VALUE  AdrA1D_PCHEMBL_VALUE  AdrA2A_PCHEMBL_VALUE  \\\n",
       "0                   NaN                   NaN                   NaN   \n",
       "1                   NaN                   NaN                   NaN   \n",
       "2                   NaN                   NaN                   NaN   \n",
       "3                   NaN                   NaN                   NaN   \n",
       "4                   NaN                   NaN                   NaN   \n",
       "\n",
       "   AdrA2C_PCHEMBL_VALUE  \n",
       "0                  5.66  \n",
       "1                  7.60  \n",
       "2                  6.25  \n",
       "3                  5.64  \n",
       "4                  5.36  \n",
       "\n",
       "[5 rows x 327 columns]"
      ]
     },
     "execution_count": 3,
     "metadata": {},
     "output_type": "execute_result"
    }
   ],
   "source": [
    "df.head()"
   ]
  },
  {
   "cell_type": "code",
   "execution_count": 4,
   "metadata": {},
   "outputs": [],
   "source": [
    "# def get_fp(mol):\n",
    "#     try:\n",
    "#         res = indigo.loadMolecule(mol).fingerprint(\"full\").toBuffer() \n",
    "#         return res\n",
    "#     except IndigoException:\n",
    "#         return None"
   ]
  },
  {
   "cell_type": "code",
   "execution_count": 5,
   "metadata": {},
   "outputs": [],
   "source": [
    "# df[\"fp\"] = [get_fp(mol) for mol in list(df.Structure)]"
   ]
  },
  {
   "cell_type": "code",
   "execution_count": 10,
   "metadata": {},
   "outputs": [],
   "source": [
    "df[\"fp\"] = [indigo.loadMolecule(mol).fingerprint(\"sim\").toBuffer() for mol in list(df.Structure)]"
   ]
  },
  {
   "cell_type": "code",
   "execution_count": 11,
   "metadata": {},
   "outputs": [],
   "source": [
    "df = df.loc[df.fp.notnull()]"
   ]
  },
  {
   "cell_type": "code",
   "execution_count": 12,
   "metadata": {},
   "outputs": [
    {
     "data": {
      "text/plain": [
       "(1731, 328)"
      ]
     },
     "execution_count": 12,
     "metadata": {},
     "output_type": "execute_result"
    }
   ],
   "source": [
    "df.shape"
   ]
  },
  {
   "cell_type": "code",
   "execution_count": 13,
   "metadata": {},
   "outputs": [
    {
     "data": {
      "text/plain": [
       "Text(0.5, 0, 'LogP')"
      ]
     },
     "execution_count": 13,
     "metadata": {},
     "output_type": "execute_result"
    },
    {
     "data": {
      "image/png": "[encoded data removed]",
      "text/plain": [
       "<Figure size 432x288 with 1 Axes>"
      ]
     },
     "metadata": {},
     "output_type": "display_data"
    }
   ],
   "source": [
    "import matplotlib.pyplot as plt\n",
    "\n",
    "plt.style.use(\"fivethirtyeight\")\n",
    "plt.hist(df['logP'].dropna(), bins=100, edgecolor=\"k\")\n",
    "plt.xlabel(\"LogP\")"
   ]
  },
  {
   "cell_type": "code",
   "execution_count": 14,
   "metadata": {},
   "outputs": [
    {
     "data": {
      "text/plain": [
       "Text(0.5, 0, 'AdrA1A_PCHEMBL_VALUE')"
      ]
     },
     "execution_count": 14,
     "metadata": {},
     "output_type": "execute_result"
    },
    {
     "data": {
      "image/png": "[encoded data removed]",
      "text/plain": [
       "<Figure size 432x288 with 1 Axes>"
      ]
     },
     "metadata": {},
     "output_type": "display_data"
    }
   ],
   "source": [
    "plt.style.use(\"fivethirtyeight\")\n",
    "plt.hist(df[\"AdrA1A_PCHEMBL_VALUE\"].dropna(), bins=100, edgecolor=\"k\")\n",
    "plt.xlabel(\"AdrA1A_PCHEMBL_VALUE\")"
   ]
  },
  {
   "cell_type": "markdown",
   "metadata": {},
   "source": [
    "# \"logP\" as target value to predict"
   ]
  },
  {
   "cell_type": "markdown",
   "metadata": {},
   "source": [
    "## Random forest"
   ]
  },
  {
   "cell_type": "code",
   "execution_count": 18,
   "metadata": {},
   "outputs": [
    {
     "data": {
      "text/plain": [
       "(1731, 328)"
      ]
     },
     "execution_count": 18,
     "metadata": {},
     "output_type": "execute_result"
    }
   ],
   "source": [
    "df1 = df.loc[df.logP.notnull()]\n",
    "df1.shape"
   ]
  },
  {
   "cell_type": "code",
   "execution_count": 19,
   "metadata": {},
   "outputs": [],
   "source": [
    "labels = [x for x in list(df1[\"logP\"])]\n"
   ]
  },
  {
   "cell_type": "code",
   "execution_count": 20,
   "metadata": {},
   "outputs": [],
   "source": [
    "X_features = list(df1[\"fp\"])"
   ]
  },
  {
   "cell_type": "code",
   "execution_count": 21,
   "metadata": {},
   "outputs": [],
   "source": [
    "X_train, X_test, y_train, y_test = train_test_split(X_features, labels, test_size=0.2, random_state=42)"
   ]
  },
  {
   "cell_type": "code",
   "execution_count": 22,
   "metadata": {},
   "outputs": [],
   "source": [
    "rf = RandomForestRegressor(n_estimators=100, n_jobs=-1)"
   ]
  },
  {
   "cell_type": "code",
   "execution_count": 23,
   "metadata": {},
   "outputs": [],
   "source": [
    "rf_model = rf.fit(X_train, y_train)"
   ]
  },
  {
   "cell_type": "code",
   "execution_count": 24,
   "metadata": {},
   "outputs": [
    {
     "data": {
      "text/plain": [
       "0.7054135574256659"
      ]
     },
     "execution_count": 24,
     "metadata": {},
     "output_type": "execute_result"
    }
   ],
   "source": [
    "rf_model.score(X_test, y_test)"
   ]
  },
  {
   "cell_type": "markdown",
   "metadata": {},
   "source": [
    "## SVR"
   ]
  },
  {
   "cell_type": "code",
   "execution_count": 25,
   "metadata": {},
   "outputs": [],
   "source": [
    "from sklearn.svm import SVR\n",
    "\n",
    "sv = SVR()\n",
    "sv_model = sv.fit(X_train, y_train)"
   ]
  },
  {
   "cell_type": "code",
   "execution_count": 26,
   "metadata": {},
   "outputs": [
    {
     "data": {
      "text/plain": [
       "0.5759657362951313"
      ]
     },
     "execution_count": 26,
     "metadata": {},
     "output_type": "execute_result"
    }
   ],
   "source": [
    "sv_model.score(X_test, y_test)"
   ]
  },
  {
   "cell_type": "markdown",
   "metadata": {},
   "source": [
    "# AdrA1A_PCHEMBL_VALUE as target value to predict"
   ]
  },
  {
   "cell_type": "code",
   "execution_count": 27,
   "metadata": {},
   "outputs": [
    {
     "data": {
      "text/plain": [
       "(841, 328)"
      ]
     },
     "execution_count": 27,
     "metadata": {},
     "output_type": "execute_result"
    }
   ],
   "source": [
    "df2 = df.loc[df.AdrA1A_PCHEMBL_VALUE.notnull()]\n",
    "df2.shape"
   ]
  },
  {
   "cell_type": "code",
   "execution_count": 28,
   "metadata": {},
   "outputs": [],
   "source": [
    "X_features = list(df2[\"fp\"])"
   ]
  },
  {
   "cell_type": "code",
   "execution_count": 29,
   "metadata": {},
   "outputs": [],
   "source": [
    "labels = [str(x) for x in list(df2[\"AdrA1A_PCHEMBL_VALUE\"])]"
   ]
  },
  {
   "cell_type": "code",
   "execution_count": 30,
   "metadata": {},
   "outputs": [],
   "source": [
    "X_train, X_test, y_train, y_test = train_test_split(X_features, labels, test_size=0.2, random_state=42)"
   ]
  },
  {
   "cell_type": "code",
   "execution_count": 31,
   "metadata": {},
   "outputs": [],
   "source": [
    "rf = RandomForestRegressor(n_estimators=10, max_depth=30, n_jobs=-1)"
   ]
  },
  {
   "cell_type": "code",
   "execution_count": 32,
   "metadata": {},
   "outputs": [],
   "source": [
    "rf_model = rf.fit(X_train, y_train)"
   ]
  },
  {
   "cell_type": "code",
   "execution_count": 33,
   "metadata": {},
   "outputs": [
    {
     "name": "stderr",
     "output_type": "stream",
     "text": [
      "C:\\Users\\Diana_Peres\\Miniconda3\\envs\\skill\\lib\\site-packages\\sklearn\\metrics\\_regression.py:90: FutureWarning: Arrays of bytes/strings is being converted to decimal numbers if dtype='numeric'. This behavior is deprecated in 0.24 and will be removed in 1.1 (renaming of 0.26). Please convert your data to numeric values explicitly instead.\n",
      "  y_true = check_array(y_true, ensure_2d=False, dtype=dtype)\n"
     ]
    },
    {
     "data": {
      "text/plain": [
       "0.36968145619081116"
      ]
     },
     "execution_count": 33,
     "metadata": {},
     "output_type": "execute_result"
    }
   ],
   "source": [
    "rf_model.score(X_test, y_test)"
   ]
  },
  {
   "cell_type": "markdown",
   "metadata": {},
   "source": [
    "## GBoost"
   ]
  },
  {
   "cell_type": "code",
   "execution_count": 34,
   "metadata": {},
   "outputs": [],
   "source": [
    "labels = df2[\"AdrA1A_PCHEMBL_VALUE\"]"
   ]
  },
  {
   "cell_type": "code",
   "execution_count": 35,
   "metadata": {},
   "outputs": [],
   "source": [
    "X_train, X_test, y_train, y_test = train_test_split(X_features, labels, test_size=0.2, random_state=42)"
   ]
  },
  {
   "cell_type": "code",
   "execution_count": 36,
   "metadata": {},
   "outputs": [],
   "source": [
    "gb = GradientBoostingRegressor(n_estimators=150, learning_rate=0.1, max_depth=3)"
   ]
  },
  {
   "cell_type": "code",
   "execution_count": 37,
   "metadata": {},
   "outputs": [],
   "source": [
    "gb_model = gb.fit(X_train, y_train)"
   ]
  },
  {
   "cell_type": "code",
   "execution_count": 38,
   "metadata": {},
   "outputs": [
    {
     "data": {
      "text/plain": [
       "0.47441197726301443"
      ]
     },
     "execution_count": 38,
     "metadata": {},
     "output_type": "execute_result"
    }
   ],
   "source": [
    "gb_model.score(X_test, y_test)"
   ]
  },
  {
   "cell_type": "code",
   "execution_count": 34,
   "metadata": {},
   "outputs": [],
   "source": [
    "def train_GB(est, max_depth, lr):\n",
    "    gb = GradientBoostingRegressor(n_estimators=est, learning_rate=lr, max_depth= max_depth)\n",
    "    gb_model = gb.fit(X_train, y_train)\n",
    "    scr = gb_model.score(X_test, y_test)\n",
    "    print(f\"Est: {est}, Max depth: {max_depth}, Learning rate: {lr} ---- Score: {scr}\")"
   ]
  },
  {
   "cell_type": "code",
   "execution_count": 35,
   "metadata": {},
   "outputs": [
    {
     "name": "stdout",
     "output_type": "stream",
     "text": [
      "Est: 50, Max depth: 3, Learning rate: 0.01 ---- Score: 0.24053381357354386\n",
      "Est: 50, Max depth: 3, Learning rate: 0.1 ---- Score: 0.48064410093889065\n",
      "Est: 50, Max depth: 3, Learning rate: 1 ---- Score: 0.06085943141076733\n",
      "Est: 50, Max depth: 7, Learning rate: 0.01 ---- Score: 0.27360327971630893\n",
      "Est: 50, Max depth: 7, Learning rate: 0.1 ---- Score: 0.3963179433310927\n",
      "Est: 50, Max depth: 7, Learning rate: 1 ---- Score: 0.09010046119920878\n",
      "Est: 50, Max depth: 11, Learning rate: 0.01 ---- Score: 0.2749249686269447\n",
      "Est: 50, Max depth: 11, Learning rate: 0.1 ---- Score: 0.1724679726676872\n",
      "Est: 50, Max depth: 11, Learning rate: 1 ---- Score: 0.10671691754555601\n",
      "Est: 50, Max depth: 15, Learning rate: 0.01 ---- Score: 0.26804874769152454\n",
      "Est: 50, Max depth: 15, Learning rate: 0.1 ---- Score: 0.1815576470880963\n",
      "Est: 50, Max depth: 15, Learning rate: 1 ---- Score: 0.0324459222632294\n",
      "Est: 100, Max depth: 3, Learning rate: 0.01 ---- Score: 0.3477605077652247\n",
      "Est: 100, Max depth: 3, Learning rate: 0.1 ---- Score: 0.4931215013920389\n",
      "Est: 100, Max depth: 3, Learning rate: 1 ---- Score: 0.09249588329314706\n",
      "Est: 100, Max depth: 7, Learning rate: 0.01 ---- Score: 0.34741064318412584\n",
      "Est: 100, Max depth: 7, Learning rate: 0.1 ---- Score: 0.38006989721398\n",
      "Est: 100, Max depth: 7, Learning rate: 1 ---- Score: -0.07083044907876057\n",
      "Est: 100, Max depth: 11, Learning rate: 0.01 ---- Score: 0.31295027423742783\n",
      "Est: 100, Max depth: 11, Learning rate: 0.1 ---- Score: 0.16754734392102688\n",
      "Est: 100, Max depth: 11, Learning rate: 1 ---- Score: 0.009405742918254578\n",
      "Est: 100, Max depth: 15, Learning rate: 0.01 ---- Score: 0.3087332554116341\n",
      "Est: 100, Max depth: 15, Learning rate: 0.1 ---- Score: 0.1874944481403834\n",
      "Est: 100, Max depth: 15, Learning rate: 1 ---- Score: 0.12800882907047761\n",
      "Est: 150, Max depth: 3, Learning rate: 0.01 ---- Score: 0.40062404587146416\n",
      "Est: 150, Max depth: 3, Learning rate: 0.1 ---- Score: 0.4814384548373659\n",
      "Est: 150, Max depth: 3, Learning rate: 1 ---- Score: 0.06336251005661764\n",
      "Est: 150, Max depth: 7, Learning rate: 0.01 ---- Score: 0.36213505083462116\n",
      "Est: 150, Max depth: 7, Learning rate: 0.1 ---- Score: 0.38205250661226653\n",
      "Est: 150, Max depth: 7, Learning rate: 1 ---- Score: 0.05007018808283248\n",
      "Est: 150, Max depth: 11, Learning rate: 0.01 ---- Score: 0.2927287858732024\n",
      "Est: 150, Max depth: 11, Learning rate: 0.1 ---- Score: 0.17068590364573089\n",
      "Est: 150, Max depth: 11, Learning rate: 1 ---- Score: -0.08275531141750259\n",
      "Est: 150, Max depth: 15, Learning rate: 0.01 ---- Score: 0.28100286114347817\n",
      "Est: 150, Max depth: 15, Learning rate: 0.1 ---- Score: 0.20725557929552108\n",
      "Est: 150, Max depth: 15, Learning rate: 1 ---- Score: 0.06947284465677439\n"
     ]
    }
   ],
   "source": [
    "for n_est in [50, 100, 150]:\n",
    "    for max_depth in [3, 7, 11, 15]:\n",
    "        for lr in [0.01, 0.1, 1]:\n",
    "            train_GB(n_est, max_depth, lr)"
   ]
  },
  {
   "cell_type": "code",
   "execution_count": null,
   "metadata": {},
   "outputs": [],
   "source": []
  }
 ],
 "metadata": {
  "kernelspec": {
   "display_name": "Python 3",
   "language": "python",
   "name": "python3"
  },
  "language_info": {
   "codemirror_mode": {
    "name": "ipython",
    "version": 3
   },
   "file_extension": ".py",
   "mimetype": "text/x-python",
   "name": "python",
   "nbconvert_exporter": "python",
   "pygments_lexer": "ipython3",
   "version": "3.7.11"
  }
 },
 "nbformat": 4,
 "nbformat_minor": 4
}
