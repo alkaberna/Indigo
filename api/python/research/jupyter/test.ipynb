{
 "cells": [
  {
   "cell_type": "code",
   "execution_count": 1,
   "metadata": {},
   "outputs": [],
   "source": [
    "import numpy as np\n",
    "import indigo as ig\n",
    "import pandas as pd\n",
    "import seaborn as sns\n",
    "import matplotlib.pyplot as plt\n",
    "pd.options.mode.chained_assignment = None  # default='warn'"
   ]
  },
  {
   "cell_type": "code",
   "execution_count": 2,
   "metadata": {},
   "outputs": [],
   "source": [
    "PATH = \"../data/Adrenergic_dataset.csv\"\n",
    "FOLDS = 5\n",
    "SEED = 42\n",
    "TARGET_VAL = \"logP\" # or \"AdrA1B_PCHEMBL_VALUE\"\n",
    "columns = [\"Structure\", \"ID\", \"logP\", \"AdrA1B_PCHEMBL_VALUE\"]"
   ]
  },
  {
   "cell_type": "code",
   "execution_count": 3,
   "metadata": {},
   "outputs": [
    {
     "data": {
      "text/html": [
       "<div>\n",
       "<style scoped>\n",
       "    .dataframe tbody tr th:only-of-type {\n",
       "        vertical-align: middle;\n",
       "    }\n",
       "\n",
       "    .dataframe tbody tr th {\n",
       "        vertical-align: top;\n",
       "    }\n",
       "\n",
       "    .dataframe thead th {\n",
       "        text-align: right;\n",
       "    }\n",
       "</style>\n",
       "<table border=\"1\" class=\"dataframe\">\n",
       "  <thead>\n",
       "    <tr style=\"text-align: right;\">\n",
       "      <th></th>\n",
       "      <th>Structure</th>\n",
       "      <th>ID</th>\n",
       "      <th>logP</th>\n",
       "      <th>Vx</th>\n",
       "      <th>MW</th>\n",
       "      <th>NegativeCharge</th>\n",
       "      <th>PositiveCharge</th>\n",
       "      <th>Flex</th>\n",
       "      <th>AromaticRings</th>\n",
       "      <th>OverallCharge</th>\n",
       "      <th>...</th>\n",
       "      <th>q485</th>\n",
       "      <th>frg-8</th>\n",
       "      <th>frg-26</th>\n",
       "      <th>frg-54</th>\n",
       "      <th>Nn</th>\n",
       "      <th>AdrA1A_PCHEMBL_VALUE</th>\n",
       "      <th>AdrA1B_PCHEMBL_VALUE</th>\n",
       "      <th>AdrA1D_PCHEMBL_VALUE</th>\n",
       "      <th>AdrA2A_PCHEMBL_VALUE</th>\n",
       "      <th>AdrA2C_PCHEMBL_VALUE</th>\n",
       "    </tr>\n",
       "  </thead>\n",
       "  <tbody>\n",
       "    <tr>\n",
       "      <th>0</th>\n",
       "      <td>CC\\C(=C(\\CC)/c1ccc(O)cc1)\\c2ccc(O)cc2</td>\n",
       "      <td>CHEMBL411</td>\n",
       "      <td>4.871</td>\n",
       "      <td>224.4</td>\n",
       "      <td>268.4</td>\n",
       "      <td>0</td>\n",
       "      <td>0</td>\n",
       "      <td>0.1905</td>\n",
       "      <td>2</td>\n",
       "      <td>0</td>\n",
       "      <td>...</td>\n",
       "      <td>4</td>\n",
       "      <td>2</td>\n",
       "      <td>0</td>\n",
       "      <td>0</td>\n",
       "      <td>0</td>\n",
       "      <td>NaN</td>\n",
       "      <td>NaN</td>\n",
       "      <td>NaN</td>\n",
       "      <td>NaN</td>\n",
       "      <td>5.66</td>\n",
       "    </tr>\n",
       "    <tr>\n",
       "      <th>1</th>\n",
       "      <td>CSc1ccc2Sc3ccccc3N(CCC4CCCCN4C)c2c1</td>\n",
       "      <td>CHEMBL479</td>\n",
       "      <td>5.900</td>\n",
       "      <td>290.2</td>\n",
       "      <td>370.6</td>\n",
       "      <td>0</td>\n",
       "      <td>2</td>\n",
       "      <td>0.1429</td>\n",
       "      <td>2</td>\n",
       "      <td>2</td>\n",
       "      <td>...</td>\n",
       "      <td>18</td>\n",
       "      <td>0</td>\n",
       "      <td>0</td>\n",
       "      <td>0</td>\n",
       "      <td>2</td>\n",
       "      <td>NaN</td>\n",
       "      <td>NaN</td>\n",
       "      <td>NaN</td>\n",
       "      <td>NaN</td>\n",
       "      <td>7.60</td>\n",
       "    </tr>\n",
       "    <tr>\n",
       "      <th>2</th>\n",
       "      <td>COc1cccc(CCN2C3C4C5CC6C7C5C3C7C2(O)C46)c1</td>\n",
       "      <td>CHEMBL2205811</td>\n",
       "      <td>3.040</td>\n",
       "      <td>225.5</td>\n",
       "      <td>309.4</td>\n",
       "      <td>0</td>\n",
       "      <td>1</td>\n",
       "      <td>0.1379</td>\n",
       "      <td>1</td>\n",
       "      <td>1</td>\n",
       "      <td>...</td>\n",
       "      <td>4</td>\n",
       "      <td>0</td>\n",
       "      <td>0</td>\n",
       "      <td>0</td>\n",
       "      <td>1</td>\n",
       "      <td>NaN</td>\n",
       "      <td>NaN</td>\n",
       "      <td>NaN</td>\n",
       "      <td>NaN</td>\n",
       "      <td>6.25</td>\n",
       "    </tr>\n",
       "    <tr>\n",
       "      <th>3</th>\n",
       "      <td>COc1cc(CN[C@H]2C3C4CC5C6C4CC3C6C25)cc(OC)c1OC</td>\n",
       "      <td>CHEMBL2432051</td>\n",
       "      <td>3.380</td>\n",
       "      <td>256.3</td>\n",
       "      <td>341.4</td>\n",
       "      <td>0</td>\n",
       "      <td>1</td>\n",
       "      <td>0.2000</td>\n",
       "      <td>1</td>\n",
       "      <td>1</td>\n",
       "      <td>...</td>\n",
       "      <td>8</td>\n",
       "      <td>0</td>\n",
       "      <td>0</td>\n",
       "      <td>0</td>\n",
       "      <td>1</td>\n",
       "      <td>NaN</td>\n",
       "      <td>NaN</td>\n",
       "      <td>NaN</td>\n",
       "      <td>NaN</td>\n",
       "      <td>5.64</td>\n",
       "    </tr>\n",
       "    <tr>\n",
       "      <th>4</th>\n",
       "      <td>COc1cccc(CCN2C3C4C5CC6C7C5C3C7C2(O)C46)c1OC</td>\n",
       "      <td>CHEMBL2205813</td>\n",
       "      <td>2.899</td>\n",
       "      <td>245.4</td>\n",
       "      <td>339.4</td>\n",
       "      <td>0</td>\n",
       "      <td>1</td>\n",
       "      <td>0.1613</td>\n",
       "      <td>1</td>\n",
       "      <td>1</td>\n",
       "      <td>...</td>\n",
       "      <td>6</td>\n",
       "      <td>0</td>\n",
       "      <td>0</td>\n",
       "      <td>0</td>\n",
       "      <td>1</td>\n",
       "      <td>NaN</td>\n",
       "      <td>NaN</td>\n",
       "      <td>NaN</td>\n",
       "      <td>NaN</td>\n",
       "      <td>5.36</td>\n",
       "    </tr>\n",
       "  </tbody>\n",
       "</table>\n",
       "<p>5 rows × 327 columns</p>\n",
       "</div>"
      ],
      "text/plain": [
       "                                       Structure             ID   logP     Vx  \\\n",
       "0          CC\\C(=C(\\CC)/c1ccc(O)cc1)\\c2ccc(O)cc2      CHEMBL411  4.871  224.4   \n",
       "1            CSc1ccc2Sc3ccccc3N(CCC4CCCCN4C)c2c1      CHEMBL479  5.900  290.2   \n",
       "2      COc1cccc(CCN2C3C4C5CC6C7C5C3C7C2(O)C46)c1  CHEMBL2205811  3.040  225.5   \n",
       "3  COc1cc(CN[C@H]2C3C4CC5C6C4CC3C6C25)cc(OC)c1OC  CHEMBL2432051  3.380  256.3   \n",
       "4    COc1cccc(CCN2C3C4C5CC6C7C5C3C7C2(O)C46)c1OC  CHEMBL2205813  2.899  245.4   \n",
       "\n",
       "      MW  NegativeCharge  PositiveCharge    Flex  AromaticRings  \\\n",
       "0  268.4               0               0  0.1905              2   \n",
       "1  370.6               0               2  0.1429              2   \n",
       "2  309.4               0               1  0.1379              1   \n",
       "3  341.4               0               1  0.2000              1   \n",
       "4  339.4               0               1  0.1613              1   \n",
       "\n",
       "   OverallCharge  ...  q485  frg-8  frg-26  frg-54  Nn  AdrA1A_PCHEMBL_VALUE  \\\n",
       "0              0  ...     4      2       0       0   0                   NaN   \n",
       "1              2  ...    18      0       0       0   2                   NaN   \n",
       "2              1  ...     4      0       0       0   1                   NaN   \n",
       "3              1  ...     8      0       0       0   1                   NaN   \n",
       "4              1  ...     6      0       0       0   1                   NaN   \n",
       "\n",
       "   AdrA1B_PCHEMBL_VALUE  AdrA1D_PCHEMBL_VALUE  AdrA2A_PCHEMBL_VALUE  \\\n",
       "0                   NaN                   NaN                   NaN   \n",
       "1                   NaN                   NaN                   NaN   \n",
       "2                   NaN                   NaN                   NaN   \n",
       "3                   NaN                   NaN                   NaN   \n",
       "4                   NaN                   NaN                   NaN   \n",
       "\n",
       "   AdrA2C_PCHEMBL_VALUE  \n",
       "0                  5.66  \n",
       "1                  7.60  \n",
       "2                  6.25  \n",
       "3                  5.64  \n",
       "4                  5.36  \n",
       "\n",
       "[5 rows x 327 columns]"
      ]
     },
     "execution_count": 3,
     "metadata": {},
     "output_type": "execute_result"
    }
   ],
   "source": [
    "df = pd.read_csv(PATH)\n",
    "df.head()"
   ]
  },
  {
   "cell_type": "code",
   "execution_count": 4,
   "metadata": {},
   "outputs": [
    {
     "data": {
      "text/plain": [
       "Text(0.5, 1.0, 'logP distribution')"
      ]
     },
     "execution_count": 4,
     "metadata": {},
     "output_type": "execute_result"
    },
    {
     "data": {
      "image/png": "[encoded data removed]",
      "text/plain": [
       "<Figure size 432x288 with 1 Axes>"
      ]
     },
     "metadata": {
      "needs_background": "light"
     },
     "output_type": "display_data"
    }
   ],
   "source": [
    "sns.histplot(df[\"logP\"]).set_title(f\"logP distribution\")"
   ]
  },
  {
   "cell_type": "code",
   "execution_count": 5,
   "metadata": {},
   "outputs": [
    {
     "data": {
      "text/plain": [
       "Text(0.5, 1.0, 'AdrA1B_PCHEMBL_VALUE distribution')"
      ]
     },
     "execution_count": 5,
     "metadata": {},
     "output_type": "execute_result"
    },
    {
     "data": {
      "image/png": "[encoded data removed]",
      "text/plain": [
       "<Figure size 432x288 with 1 Axes>"
      ]
     },
     "metadata": {
      "needs_background": "light"
     },
     "output_type": "display_data"
    }
   ],
   "source": [
    "sns.histplot(df[\"AdrA1B_PCHEMBL_VALUE\"]).set_title(\"AdrA1B_PCHEMBL_VALUE distribution\")"
   ]
  },
  {
   "cell_type": "code",
   "execution_count": 6,
   "metadata": {},
   "outputs": [],
   "source": [
    "dataset = df[columns]\n",
    "#mean = dataset[\"AdrA1B_PCHEMBL_VALUE\"].median()\n",
    "#dataset.fillna({\"AdrA1B_PCHEMBL_VALUE\": mean}, inplace=True)\n",
    "#print(len(dataset))\n",
    "dataset.dropna(subset=[\"AdrA1B_PCHEMBL_VALUE\"], inplace=True)\n",
    "#print(len(dataset))"
   ]
  },
  {
   "cell_type": "code",
   "execution_count": 14,
   "metadata": {},
   "outputs": [
    {
     "name": "stdout",
     "output_type": "stream",
     "text": [
      "[[0.02745098 0.         0.         ... 0.1882353  0.00784314 0.12156863]\n",
      " [0.15294118 0.         0.         ... 0.1882353  0.01176471 0.07450981]\n",
      " [0.05882353 0.         0.         ... 0.54901963 0.03921569 0.01960784]\n",
      " ...\n",
      " [0.12156863 0.04705882 0.         ... 0.7372549  0.34117648 0.40392157]\n",
      " [0.24705882 0.         0.         ... 0.6117647  0.2627451  0.43529412]\n",
      " [0.24705882 0.         0.         ... 0.6117647  0.2627451  0.43529412]]\n"
     ]
    },
    {
     "data": {
      "text/html": [
       "<div>\n",
       "<style scoped>\n",
       "    .dataframe tbody tr th:only-of-type {\n",
       "        vertical-align: middle;\n",
       "    }\n",
       "\n",
       "    .dataframe tbody tr th {\n",
       "        vertical-align: top;\n",
       "    }\n",
       "\n",
       "    .dataframe thead th {\n",
       "        text-align: right;\n",
       "    }\n",
       "</style>\n",
       "<table border=\"1\" class=\"dataframe\">\n",
       "  <thead>\n",
       "    <tr style=\"text-align: right;\">\n",
       "      <th></th>\n",
       "      <th>Structure</th>\n",
       "      <th>ID</th>\n",
       "      <th>logP</th>\n",
       "      <th>AdrA1B_PCHEMBL_VALUE</th>\n",
       "      <th>fp</th>\n",
       "    </tr>\n",
       "  </thead>\n",
       "  <tbody>\n",
       "    <tr>\n",
       "      <th>15</th>\n",
       "      <td>C(COc1ccccc1)NC[C@H]2COCC(O2)(c3ccccc3)c4ccccc4</td>\n",
       "      <td>CHEMBL2312538</td>\n",
       "      <td>3.975</td>\n",
       "      <td>6.77</td>\n",
       "      <td>[0.02745098, 0.0, 0.0, 0.0, 0.08627451, 0.1254...</td>\n",
       "    </tr>\n",
       "    <tr>\n",
       "      <th>20</th>\n",
       "      <td>COc1ccccc1OCCNCCOc2ccccc2OCc3ccccc3</td>\n",
       "      <td>CHEMBL1254915</td>\n",
       "      <td>3.747</td>\n",
       "      <td>7.70</td>\n",
       "      <td>[0.15294118, 0.0, 0.0, 0.0, 0.07058824, 0.0196...</td>\n",
       "    </tr>\n",
       "    <tr>\n",
       "      <th>23</th>\n",
       "      <td>Clc1ccccc1C2CCN(CCN3C(=O)CC4(CCCC4)CC3=O)CC2</td>\n",
       "      <td>CHEMBL56292</td>\n",
       "      <td>3.381</td>\n",
       "      <td>8.11</td>\n",
       "      <td>[0.05882353, 0.0, 0.0, 0.6431373, 0.03137255, ...</td>\n",
       "    </tr>\n",
       "    <tr>\n",
       "      <th>26</th>\n",
       "      <td>O[C@@H]1[C@@H](CNCCOc2ccccc2)CCC1(c3ccccc3)c4c...</td>\n",
       "      <td>CHEMBL1962872</td>\n",
       "      <td>4.741</td>\n",
       "      <td>6.54</td>\n",
       "      <td>[0.02745098, 0.0, 0.0, 0.0, 0.039215688, 0.156...</td>\n",
       "    </tr>\n",
       "    <tr>\n",
       "      <th>36</th>\n",
       "      <td>Clc1ccc(Cl)c(c1)N2CCN(CCN3C=CC4(CCCC4)CC3=O)CC2</td>\n",
       "      <td>CHEMBL292366</td>\n",
       "      <td>3.584</td>\n",
       "      <td>7.80</td>\n",
       "      <td>[0.12156863, 0.015686275, 0.0, 0.6431373, 0.17...</td>\n",
       "    </tr>\n",
       "  </tbody>\n",
       "</table>\n",
       "</div>"
      ],
      "text/plain": [
       "                                            Structure             ID   logP  \\\n",
       "15    C(COc1ccccc1)NC[C@H]2COCC(O2)(c3ccccc3)c4ccccc4  CHEMBL2312538  3.975   \n",
       "20                COc1ccccc1OCCNCCOc2ccccc2OCc3ccccc3  CHEMBL1254915  3.747   \n",
       "23       Clc1ccccc1C2CCN(CCN3C(=O)CC4(CCCC4)CC3=O)CC2    CHEMBL56292  3.381   \n",
       "26  O[C@@H]1[C@@H](CNCCOc2ccccc2)CCC1(c3ccccc3)c4c...  CHEMBL1962872  4.741   \n",
       "36    Clc1ccc(Cl)c(c1)N2CCN(CCN3C=CC4(CCCC4)CC3=O)CC2   CHEMBL292366  3.584   \n",
       "\n",
       "    AdrA1B_PCHEMBL_VALUE                                                 fp  \n",
       "15                  6.77  [0.02745098, 0.0, 0.0, 0.0, 0.08627451, 0.1254...  \n",
       "20                  7.70  [0.15294118, 0.0, 0.0, 0.0, 0.07058824, 0.0196...  \n",
       "23                  8.11  [0.05882353, 0.0, 0.0, 0.6431373, 0.03137255, ...  \n",
       "26                  6.54  [0.02745098, 0.0, 0.0, 0.0, 0.039215688, 0.156...  \n",
       "36                  7.80  [0.12156863, 0.015686275, 0.0, 0.6431373, 0.17...  "
      ]
     },
     "execution_count": 14,
     "metadata": {},
     "output_type": "execute_result"
    }
   ],
   "source": [
    "indigo = ig.Indigo()\n",
    "\n",
    "def nat_fps():\n",
    "    indigo.setOption(\"ignore-stereochemistry-errors\", True)\n",
    "    indigo.setOption(\"ignore-bad-valence\", True)\n",
    "    indigo.setOption(\"similarity-type\", \"ecfp6\")\n",
    "    indigo.setOption(\"fp-sim-qwords\", 8)\n",
    "    indigo.setOption(\"fp-ord-qwords\", 25)\n",
    "    indigo.setOption(\"fp-any-qwords\", 15)\n",
    "    indigo.setOption(\"fp-tau-qwords\", 25)\n",
    "    indigo.setOption(\"fp-ext-enabled\", True)\n",
    "    fingerprints = []\n",
    "    max_val = -np.Inf\n",
    "\n",
    "    for struct in dataset[\"Structure\"]:\n",
    "        mol = indigo.loadMolecule(struct)\n",
    "        mol.aromatize()\n",
    "        fingerprint = mol.fingerprint(\"full\").toBuffer()\n",
    "        buffered = np.frombuffer(fingerprint, dtype=np.uint8)\n",
    "        fingerprints.append(buffered)\n",
    "        max_val = max(max_val, *buffered)\n",
    "\n",
    "    fingerprints = np.array(fingerprints, dtype=np.float32) / max_val\n",
    "    print(fingerprints)\n",
    "    return fingerprints\n",
    "\n",
    "def sim_fps():\n",
    "    fingerprints = []\n",
    "\n",
    "    max_val = -np.Inf\n",
    "\n",
    "    for struct in dataset[\"Structure\"]:\n",
    "        mol = indigo.loadMolecule(struct)\n",
    "        fingerprint = mol.fingerprint(\"sim\").toBuffer()\n",
    "        buffered = np.frombuffer(fingerprint, dtype=np.uint8)\n",
    "        fingerprints.append(buffered)\n",
    "        max_val = max(max_val, *buffered)\n",
    "\n",
    "    fingerprints = np.array(fingerprints, dtype=np.float32) / max_val\n",
    "    print(fingerprints)\n",
    "    return fingerprints\n",
    "\n",
    "fingerprints = nat_fps()\n",
    "dataset[\"fp\"] = [fp for fp in fingerprints]\n",
    "dataset.head()"
   ]
  },
  {
   "cell_type": "code",
   "execution_count": 15,
   "metadata": {},
   "outputs": [],
   "source": [
    "from sklearn.model_selection import KFold, train_test_split\n",
    "from sklearn.metrics import r2_score\n",
    "from sklearn.linear_model import Lasso, Ridge, ElasticNet, SGDRegressor\n",
    "from sklearn.ensemble import RandomForestRegressor, ExtraTreesRegressor, GradientBoostingRegressor\n",
    "from sklearn.svm import SVR\n",
    "\n",
    "\n",
    "def oof(reg, bundle):\n",
    "    kf = KFold(n_splits=FOLDS, shuffle=True, random_state=SEED)\n",
    "    X_train, X_test, y_train, y_test = bundle\n",
    "    train_errors = []\n",
    "    oof_errors = []\n",
    "    errors = []\n",
    "    for i, (train_idx, test_idx) in enumerate(kf.split(X_train, y_train)):\n",
    "        X_tr = X_train[train_idx]\n",
    "        y_tr = y_train[train_idx]\n",
    "        X_te = X_train[test_idx]\n",
    "\n",
    "        reg = reg.fit(X_tr, y_tr)\n",
    "        oof_pred = reg.predict(X_te)\n",
    "        train_pred = reg.predict(X_tr)\n",
    "        test_pred = reg.predict(X_test)\n",
    "        oof_score = r2_score(y_train[test_idx], oof_pred)\n",
    "        train_score = r2_score(y_tr, train_pred)\n",
    "        #print(\"out of fold: \", r2_score(y_train[test_idx], oof_pred), \"train: \", r2_score(y_tr, train_pred))\n",
    "        train_errors.append(train_score)\n",
    "        oof_errors.append(oof_score)\n",
    "        errors.append(r2_score(y_test, test_pred))\n",
    "\n",
    "    print(\"MEAN TRAIN: \", np.mean(train_errors))\n",
    "    print(\"MEAN VALIDATION: \", np.mean(oof_errors))\n",
    "    \n",
    "    return errors, test_pred"
   ]
  },
  {
   "cell_type": "code",
   "execution_count": 24,
   "metadata": {},
   "outputs": [
    {
     "name": "stdout",
     "output_type": "stream",
     "text": [
      "MEAN TRAIN:  0.911759760483352\n",
      "MEAN VALIDATION:  0.5325629672358693\n",
      "MEAN TEST 0.5741605536234623\n"
     ]
    }
   ],
   "source": [
    "bundle = train_test_split(fingerprints, dataset[\"AdrA1B_PCHEMBL_VALUE\"].values, shuffle=True, random_state=SEED, test_size = 0.25)\n",
    "y_test = bundle[3]\n",
    "#model = SVR()\n",
    "model = RandomForestRegressor(n_estimators=200, max_features=0.5, max_depth=12, min_samples_leaf=2)\n",
    "errors, y_pred = oof(model, bundle)\n",
    "print(\"MEAN TEST\", np.mean(errors))"
   ]
  },
  {
   "cell_type": "code",
   "execution_count": 17,
   "metadata": {},
   "outputs": [
    {
     "data": {
      "text/plain": [
       "[<matplotlib.lines.Line2D at 0x130696e20>]"
      ]
     },
     "execution_count": 17,
     "metadata": {},
     "output_type": "execute_result"
    },
    {
     "data": {
      "image/png": "[encoded data removed]",
      "text/plain": [
       "<Figure size 432x288 with 1 Axes>"
      ]
     },
     "metadata": {
      "needs_background": "light"
     },
     "output_type": "display_data"
    }
   ],
   "source": [
    "output = pd.DataFrame({\"predictions\":y_pred, \"ground truth\": y_test})\n",
    "\n",
    "regplot = sns.scatterplot(data=output, x=output[\"predictions\"], y=output[\"ground truth\"])\n",
    "regplot.set_title(f\"AdrA1B_PCHEMBL regression plot\")\n",
    "x0, x1 = regplot.get_xlim()\n",
    "y0, y1 = regplot.get_ylim()\n",
    "\n",
    "lims = [max(x0, y0), min(x1, y1)]\n",
    "regplot.plot(lims, lims, '-r')"
   ]
  },
  {
   "cell_type": "code",
   "execution_count": 18,
   "metadata": {},
   "outputs": [
    {
     "data": {
      "text/plain": [
       "[<matplotlib.lines.Line2D at 0x130701fd0>]"
      ]
     },
     "execution_count": 18,
     "metadata": {},
     "output_type": "execute_result"
    },
    {
     "data": {
      "image/png": "[encoded data removed]",
      "text/plain": [
       "<Figure size 432x288 with 1 Axes>"
      ]
     },
     "metadata": {
      "needs_background": "light"
     },
     "output_type": "display_data"
    }
   ],
   "source": [
    "output = pd.DataFrame({\"ground truth\":y_test, \"residual\": (y_test - y_pred)})\n",
    "\n",
    "regplot = sns.scatterplot(data=output, x=output[\"ground truth\"], y=output[\"residual\"])\n",
    "regplot.set_title(f\"AdrA1B_PCHEMBL residual plot\")\n",
    "x0, x1 = regplot.get_xlim()\n",
    "y0, y1 = regplot.get_ylim()\n",
    "\n",
    "lims = [max(0, y0), min(x1, 0)]\n",
    "regplot.plot([x0, x1], [0, 0], '-r')"
   ]
  },
  {
   "cell_type": "code",
   "execution_count": 19,
   "metadata": {},
   "outputs": [
    {
     "name": "stdout",
     "output_type": "stream",
     "text": [
      "MEAN TRAIN:  0.8750746701202742\n",
      "MEAN VALIDATION:  0.7283505050887451\n",
      "MEAN TEST 0.7631881541647046\n"
     ]
    }
   ],
   "source": [
    "bundle = train_test_split(fingerprints, dataset[\"logP\"].values, shuffle=True, random_state=SEED, test_size = 0.25)\n",
    "y_test = bundle[3]\n",
    "kf = KFold(n_splits=FOLDS, shuffle=True, random_state=SEED)\n",
    "\n",
    "model = SVR()\n",
    "#model = RandomForestRegressor(n_estimators=100, max_features=0.8, max_depth=10, min_samples_leaf=2)\n",
    "errors, y_pred = oof(model, bundle)\n",
    "print(\"MEAN TEST\", np.mean(errors))\n"
   ]
  },
  {
   "cell_type": "code",
   "execution_count": 20,
   "metadata": {},
   "outputs": [
    {
     "data": {
      "text/plain": [
       "[<matplotlib.lines.Line2D at 0x13076efd0>]"
      ]
     },
     "execution_count": 20,
     "metadata": {},
     "output_type": "execute_result"
    },
    {
     "data": {
      "image/png": "[encoded data removed]",
      "text/plain": [
       "<Figure size 432x288 with 1 Axes>"
      ]
     },
     "metadata": {
      "needs_background": "light"
     },
     "output_type": "display_data"
    }
   ],
   "source": [
    "output = pd.DataFrame({\"predictions\": y_pred, \"ground truth\": y_test})\n",
    "\n",
    "regplot = sns.scatterplot(data=output, x=output[\"predictions\"], y=output[\"ground truth\"])\n",
    "regplot.set_title(f\"LogP regression plot\")\n",
    "x0, x1 = regplot.get_xlim()\n",
    "y0, y1 = regplot.get_ylim()\n",
    "\n",
    "lims = [max(x0, y0), min(x1, y1)]\n",
    "regplot.plot(lims, lims, '-r')"
   ]
  },
  {
   "cell_type": "code",
   "execution_count": 21,
   "metadata": {},
   "outputs": [
    {
     "data": {
      "text/plain": [
       "[<matplotlib.lines.Line2D at 0x1307dbca0>]"
      ]
     },
     "execution_count": 21,
     "metadata": {},
     "output_type": "execute_result"
    },
    {
     "data": {
      "image/png": "[encoded data removed]",
      "text/plain": [
       "<Figure size 432x288 with 1 Axes>"
      ]
     },
     "metadata": {
      "needs_background": "light"
     },
     "output_type": "display_data"
    }
   ],
   "source": [
    "output = pd.DataFrame({\"ground truth\": y_test, \"residual\": (y_test - y_pred)})\n",
    "\n",
    "regplot = sns.scatterplot(data=output, x=output[\"ground truth\"], y=output[\"residual\"])\n",
    "regplot.set_title(f\"LogP residual plot\")\n",
    "x0, x1 = regplot.get_xlim()\n",
    "y0, y1 = regplot.get_ylim()\n",
    "\n",
    "regplot.plot([x0, x1], [0, 0], '-r')"
   ]
  },
  {
   "cell_type": "code",
   "execution_count": null,
   "metadata": {},
   "outputs": [],
   "source": []
  }
 ],
 "metadata": {
  "interpreter": {
   "hash": "921405fb54ba40c0aecf9cfe4a53581e6631389606eafa2cb2fb269e41e61c99"
  },
  "kernelspec": {
   "display_name": "Python 3.9.8 64-bit ('venv': venv)",
   "language": "python",
   "name": "python3"
  },
  "language_info": {
   "codemirror_mode": {
    "name": "ipython",
    "version": 3
   },
   "file_extension": ".py",
   "mimetype": "text/x-python",
   "name": "python",
   "nbconvert_exporter": "python",
   "pygments_lexer": "ipython3",
   "version": "3.9.8"
  },
  "orig_nbformat": 4
 },
 "nbformat": 4,
 "nbformat_minor": 2
}
